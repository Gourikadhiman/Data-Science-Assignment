{
 "cells": [
  {
   "cell_type": "code",
   "execution_count": 1,
   "id": "6610564c",
   "metadata": {},
   "outputs": [],
   "source": [
    "import pandas as pd\n",
    "from sklearn.metrics.pairwise import cosine_similarity\n",
    "from sklearn.preprocessing import StandardScaler"
   ]
  },
  {
   "cell_type": "code",
   "execution_count": 2,
   "id": "8270f318",
   "metadata": {},
   "outputs": [],
   "source": [
    "customers = pd.read_csv('Customers.csv')\n",
    "products = pd.read_csv('Products.csv')\n",
    "transactions = pd.read_csv('Transactions.csv')\n"
   ]
  },
  {
   "cell_type": "code",
   "execution_count": 3,
   "id": "c9d3f5e0",
   "metadata": {},
   "outputs": [
    {
     "name": "stdout",
     "output_type": "stream",
     "text": [
      "  TransactionID CustomerID ProductID      TransactionDate  Quantity  \\\n",
      "0        T00001      C0199      P067  2024-08-25 12:38:23         1   \n",
      "1        T00112      C0146      P067  2024-05-27 22:23:54         1   \n",
      "2        T00166      C0127      P067  2024-04-25 07:38:55         1   \n",
      "3        T00272      C0087      P067  2024-03-26 22:55:37         2   \n",
      "4        T00363      C0070      P067  2024-03-21 15:10:10         3   \n",
      "\n",
      "   TotalValue  Price_x     CustomerName         Region  SignupDate  \\\n",
      "0      300.68   300.68   Andrea Jenkins         Europe  2022-12-03   \n",
      "1      300.68   300.68  Brittany Harvey           Asia  2024-09-04   \n",
      "2      300.68   300.68  Kathryn Stevens         Europe  2024-04-04   \n",
      "3      601.36   300.68  Travis Campbell  South America  2024-04-11   \n",
      "4      902.04   300.68    Timothy Perez         Europe  2022-03-15   \n",
      "\n",
      "                       ProductName     Category  Price_y  \n",
      "0  ComfortLiving Bluetooth Speaker  Electronics   300.68  \n",
      "1  ComfortLiving Bluetooth Speaker  Electronics   300.68  \n",
      "2  ComfortLiving Bluetooth Speaker  Electronics   300.68  \n",
      "3  ComfortLiving Bluetooth Speaker  Electronics   300.68  \n",
      "4  ComfortLiving Bluetooth Speaker  Electronics   300.68  \n"
     ]
    }
   ],
   "source": [
    "merged_data = transactions.merge(customers, on='CustomerID', how='left')\n",
    "merged_data = merged_data.merge(products, on='ProductID', how='left')\n",
    "print(merged_data.head())\n"
   ]
  },
  {
   "cell_type": "code",
   "execution_count": 4,
   "id": "396aaf87",
   "metadata": {},
   "outputs": [],
   "source": [
    "customer_features = merged_data.groupby('CustomerID').agg(\n",
    "    total_spent=('TotalValue', 'sum'),\n",
    "    avg_transaction_value=('TotalValue', 'mean'),\n",
    "    transaction_count=('TransactionID', 'count'),\n",
    "    favorite_category=('Category', lambda x: x.mode()[0] if not x.mode().empty else None)\n",
    ").reset_index()"
   ]
  },
  {
   "cell_type": "code",
   "execution_count": 5,
   "id": "29da0d73",
   "metadata": {},
   "outputs": [
    {
     "name": "stdout",
     "output_type": "stream",
     "text": [
      "  CustomerID  total_spent  avg_transaction_value  transaction_count  \\\n",
      "0      C0001      3354.52                670.904                  5   \n",
      "1      C0002      1862.74                465.685                  4   \n",
      "2      C0003      2725.38                681.345                  4   \n",
      "3      C0004      5354.88                669.360                  8   \n",
      "4      C0005      2034.24                678.080                  3   \n",
      "\n",
      "   days_since_signup  Region_Europe  Region_North America  \\\n",
      "0                931              0                     0   \n",
      "1               1078              0                     0   \n",
      "2                325              0                     0   \n",
      "3                840              0                     0   \n",
      "4                895              0                     0   \n",
      "\n",
      "   Region_South America  favorite_category_Clothing  \\\n",
      "0                     1                           0   \n",
      "1                     0                           1   \n",
      "2                     1                           0   \n",
      "3                     1                           0   \n",
      "4                     0                           0   \n",
      "\n",
      "   favorite_category_Electronics  favorite_category_Home Decor  \n",
      "0                              1                             0  \n",
      "1                              0                             0  \n",
      "2                              0                             1  \n",
      "3                              0                             0  \n",
      "4                              1                             0  \n"
     ]
    }
   ],
   "source": [
    "customer_features = customer_features.merge(\n",
    "    customers[['CustomerID', 'Region', 'SignupDate']],\n",
    "    on='CustomerID',\n",
    "    how='left'\n",
    ")\n",
    "\n",
    "# Converting SignupDate to numerical feature\n",
    "customer_features['SignupDate'] = pd.to_datetime(customer_features['SignupDate'])\n",
    "customer_features['days_since_signup'] = (pd.Timestamp.today() - customer_features['SignupDate']).dt.days\n",
    "customer_features.drop('SignupDate', axis=1, inplace=True)\n",
    "customer_features = pd.get_dummies(customer_features, columns=['Region', 'favorite_category'], drop_first=True)\n",
    "\n",
    "print(customer_features.head())"
   ]
  },
  {
   "cell_type": "code",
   "execution_count": 6,
   "id": "aad337c5",
   "metadata": {},
   "outputs": [],
   "source": [
    "scaler = StandardScaler()\n",
    "numerical_features = ['total_spent', 'avg_transaction_value', 'transaction_count', 'days_since_signup']\n",
    "customer_features[numerical_features] = scaler.fit_transform(customer_features[numerical_features])\n",
    "\n",
    "# Calculating cosine similarity\n",
    "similarity_matrix = cosine_similarity(customer_features.drop('CustomerID', axis=1))\n",
    "\n",
    "# Creating a DataFrame for similarity scores\n",
    "similarity_df = pd.DataFrame(similarity_matrix, index=customer_features['CustomerID'], columns=customer_features['CustomerID'])"
   ]
  },
  {
   "cell_type": "code",
   "execution_count": 7,
   "id": "3281c9b9",
   "metadata": {},
   "outputs": [],
   "source": [
    "def get_top_n_similar(customers, similarity_matrix, top_n=3):\n",
    "    similar_customers = {}\n",
    "    for customer_id in customers:\n",
    "        scores = similarity_matrix[customer_id].sort_values(ascending=False)\n",
    "        top_similar = scores.iloc[1:top_n + 1]\n",
    "        similar_customers[customer_id] = [(idx, round(score, 2)) for idx, score in top_similar.items()]\n",
    "    return similar_customers\n",
    "\n",
    "# Getting top 3 lookalikes for the first 20 customers\n",
    "first_20_customers = customer_features['CustomerID'][:20]\n",
    "lookalike_map = get_top_n_similar(first_20_customers, similarity_df)\n",
    "\n",
    "# Saving results to Lookalike.csv\n",
    "lookalike_df = pd.DataFrame([\n",
    "    {'CustomerID': cust_id, 'Lookalikes': lookalikes}\n",
    "    for cust_id, lookalikes in lookalike_map.items()\n",
    "])\n",
    "lookalike_df.to_csv('Lookalike.csv', index=False)"
   ]
  },
  {
   "cell_type": "code",
   "execution_count": null,
   "id": "69f52408",
   "metadata": {},
   "outputs": [],
   "source": []
  }
 ],
 "metadata": {
  "kernelspec": {
   "display_name": "Python 3 (ipykernel)",
   "language": "python",
   "name": "python3"
  },
  "language_info": {
   "codemirror_mode": {
    "name": "ipython",
    "version": 3
   },
   "file_extension": ".py",
   "mimetype": "text/x-python",
   "name": "python",
   "nbconvert_exporter": "python",
   "pygments_lexer": "ipython3",
   "version": "3.9.12"
  }
 },
 "nbformat": 4,
 "nbformat_minor": 5
}
